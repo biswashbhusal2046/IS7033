{
 "cells": [
  {
   "cell_type": "markdown",
   "metadata": {},
   "source": [
    "<h1><center>Pytorch Tutorial !</center></h1>   \n",
    "-----------------------------------------------------------------------------***\n",
    "Author: Biswash Bhusal\n",
    "***--------------------------------------------------------------------------------------------"
   ]
  },
  {
   "cell_type": "markdown",
   "metadata": {},
   "source": [
    "### What will be in this notebook ? \n",
    "        1. Definations\n",
    "        2. Understanding Pytorch \n",
    "        3.Advantage of this framework\n",
    "        4. Understanding and implementating pytorch for mnist classification\n",
    "    "
   ]
  },
  {
   "cell_type": "markdown",
   "metadata": {},
   "source": [
    "There are four major more deep learing libraries in Python. Google use Tensorflow while Pytorch is main framework for facebook.\n",
    "    1. Tensorflow\n",
    "    2. Theano\n",
    "    3. PyTorch\n",
    "    4. Keras\n",
    "\n",
    "## PyTorch: \n",
    "    1. Pytorch is python based scientific computing package.The Greatest advantage for researcher is its dynamic graph (Fix the code as you write single line, compare to static graph where you will write the code first and run after that)\n",
    "    2. Pytorch is really fast and has great python support.\n",
    "    3. Dynamic Computation Graphs: Build the graph as you go. \n",
    "    4. CUDA: Compute Unified Devise Architect\n",
    "    5. Torch has autograde module: meaning compute differentiation by itself\n",
    "        In Pytorch, Dynamic computation graphing: Meaning, Pytoch is Define at runtime while tensorflow is Define and run where we define conditions and iterations in the graph structure ( degree of freedom is limited in tensorflow)\n",
    "    \n",
    "    "
   ]
  },
  {
   "cell_type": "markdown",
   "metadata": {},
   "source": [
    "### Terminologies: \n",
    "        Tensor: Imperative N-dimensional Array Running on GPU\n",
    "        Variable: Node in Computational Graph - To store Data and Gradient \n",
    "        Module: Neural Network Layer -Stores State or Learnable Weights\n",
    "        "
   ]
  },
  {
   "cell_type": "markdown",
   "metadata": {},
   "source": [
    "### Tensor and Array :\n",
    "---------------------------------------\n",
    "Tensor is more mathematical way of representing matrix .For example, tensor with 1 is scalar. Genarally, Mathematical term for multidimensional array"
   ]
  },
  {
   "cell_type": "markdown",
   "metadata": {},
   "source": [
    "##### Code Implementation:"
   ]
  },
  {
   "cell_type": "code",
   "execution_count": 1,
   "metadata": {},
   "outputs": [
    {
     "data": {
      "text/plain": [
       "'1.0.1'"
      ]
     },
     "execution_count": 1,
     "metadata": {},
     "output_type": "execute_result"
    }
   ],
   "source": [
    "## Version Check \n",
    "import torch\n",
    "torch.__version__"
   ]
  },
  {
   "cell_type": "code",
   "execution_count": 2,
   "metadata": {},
   "outputs": [
    {
     "data": {
      "text/plain": [
       "'0.2.1'"
      ]
     },
     "execution_count": 2,
     "metadata": {},
     "output_type": "execute_result"
    }
   ],
   "source": [
    "import torchvision\n",
    "torchvision.__version__"
   ]
  },
  {
   "cell_type": "code",
   "execution_count": 3,
   "metadata": {},
   "outputs": [
    {
     "data": {
      "text/plain": [
       "'1.15.4'"
      ]
     },
     "execution_count": 3,
     "metadata": {},
     "output_type": "execute_result"
    }
   ],
   "source": [
    "import numpy as np\n",
    "np.__version__"
   ]
  },
  {
   "cell_type": "code",
   "execution_count": null,
   "metadata": {},
   "outputs": [
    {
     "name": "stdout",
     "output_type": "stream",
     "text": [
      "> <ipython-input-4-d4b6f89cad7b>(11)f()\n",
      "      9     response = x + x\n",
      "     10     set_trace()\n",
      "---> 11     return response\n",
      "     12 x= torch.randn(1, requires_grad=True)\n",
      "     13 y=f(x)\n",
      "\n",
      "ipdb> response\n",
      "tensor([-1.8701], grad_fn=<AddBackward0>)\n",
      "ipdb> x\n",
      "tensor([-0.9351], requires_grad=True)\n"
     ]
    }
   ],
   "source": [
    "### What is cool about Pytorch :\n",
    "# Dynamic graph \n",
    "\n",
    "### Easy to Debug \n",
    "import torch \n",
    "from IPython.core.debugger import set_trace\n",
    "\n",
    "def f(x):\n",
    "    response = x + x\n",
    "    set_trace()\n",
    "    return response\n",
    "x= torch.randn(1, requires_grad=True)\n",
    "y=f(x)"
   ]
  },
  {
   "cell_type": "code",
   "execution_count": 1,
   "metadata": {},
   "outputs": [
    {
     "name": "stdout",
     "output_type": "stream",
     "text": [
      "tensor([[0.8783, 0.1902, 0.2864],\n",
      "        [0.1926, 0.4632, 0.1901],\n",
      "        [0.1218, 0.3494, 0.2309],\n",
      "        [0.9304, 0.8505, 0.9069],\n",
      "        [0.2176, 0.6490, 0.0636]])\n"
     ]
    }
   ],
   "source": [
    "# Import package \n",
    "import torch \n",
    "x= torch.rand(5,3)\n",
    "print(x)"
   ]
  },
  {
   "cell_type": "code",
   "execution_count": 2,
   "metadata": {},
   "outputs": [
    {
     "name": "stdout",
     "output_type": "stream",
     "text": [
      "tensor([5.3000, 3.0000])\n"
     ]
    }
   ],
   "source": [
    "y= torch.tensor([5.3,3])   ## This are tensor data not a dimension \n",
    "print(y)"
   ]
  },
  {
   "cell_type": "code",
   "execution_count": 3,
   "metadata": {},
   "outputs": [
    {
     "name": "stdout",
     "output_type": "stream",
     "text": [
      "tensor([[1., 1., 1.],\n",
      "        [1., 1., 1.],\n",
      "        [1., 1., 1.],\n",
      "        [1., 1., 1.],\n",
      "        [1., 1., 1.]], dtype=torch.float64)\n",
      "tensor([[-0.7490, -1.5189,  0.1248],\n",
      "        [-0.7421,  1.0636, -1.5552],\n",
      "        [-0.1873,  1.8014,  1.8409],\n",
      "        [ 0.1706,  0.1193,  0.1973],\n",
      "        [-1.4960, -0.5381, -1.9632]])\n"
     ]
    }
   ],
   "source": [
    "### Create a tensor based on existing tensor. These methods will reuse properties of input tensor. \n",
    "        # e.g. dtype, unless new values are provided by user. \n",
    "x= x.new_ones(5,3, dtype=torch.double)\n",
    "print (x)\n",
    "\n",
    "x= torch.randn_like(x, dtype= torch.float)\n",
    "print(x)"
   ]
  },
  {
   "cell_type": "code",
   "execution_count": 4,
   "metadata": {},
   "outputs": [
    {
     "name": "stdout",
     "output_type": "stream",
     "text": [
      "torch.Size([5, 3])\n"
     ]
    }
   ],
   "source": [
    "## Print the size for torch variable\n",
    "print(x.size()) # Get the size"
   ]
  },
  {
   "cell_type": "code",
   "execution_count": 26,
   "metadata": {},
   "outputs": [
    {
     "name": "stdout",
     "output_type": "stream",
     "text": [
      "tensor([[-1.4980, -3.0378,  0.2497],\n",
      "        [-1.4841,  2.1272, -3.1104],\n",
      "        [-0.3746,  3.6028,  3.6818],\n",
      "        [ 0.3412,  0.2386,  0.3947],\n",
      "        [-2.9919, -1.0762, -3.9264]])\n"
     ]
    }
   ],
   "source": [
    "### Addition in torch \n",
    "print (torch.add(x,x)) "
   ]
  },
  {
   "cell_type": "code",
   "execution_count": 22,
   "metadata": {},
   "outputs": [
    {
     "name": "stdout",
     "output_type": "stream",
     "text": [
      "tensor([[1.5709, 1.4761, 0.4647],\n",
      "        [1.3920, 1.3419, 0.3893],\n",
      "        [1.2084, 1.2199, 0.3787]])\n"
     ]
    }
   ],
   "source": [
    "### Multiplication in torch \n",
    "d= 3\n",
    "a= torch.rand(d,d)\n",
    "b=torch.rand(d,d)\n",
    "c= torch.mm(a,b)   ## MM is matrix mutiplication \n",
    "print (c)"
   ]
  },
  {
   "cell_type": "code",
   "execution_count": 22,
   "metadata": {},
   "outputs": [
    {
     "name": "stdout",
     "output_type": "stream",
     "text": [
      "tensor([[1., 0., 0.],\n",
      "        [0., 1., 0.],\n",
      "        [0., 0., 1.]])\n",
      "torch.Size([3, 3])\n",
      "[[1. 0. 0.]\n",
      " [0. 1. 0.]\n",
      " [0. 0. 1.]]\n"
     ]
    }
   ],
   "source": [
    "### Create Identity Matrix \n",
    "print (torch.eye(3))\n",
    "print (torch.eye(3).size())\n",
    "## We can do same in numpy as\n",
    "import numpy as np\n",
    "print (np.eye(3))"
   ]
  },
  {
   "cell_type": "markdown",
   "metadata": {},
   "source": [
    "### Slicing Tensor:"
   ]
  },
  {
   "cell_type": "code",
   "execution_count": 41,
   "metadata": {},
   "outputs": [
    {
     "name": "stdout",
     "output_type": "stream",
     "text": [
      "tensor([[1., 0., 0., 0.],\n",
      "        [0., 1., 0., 0.]])\n",
      "tensor([[1., 0.],\n",
      "        [0., 1.],\n",
      "        [0., 0.],\n",
      "        [0., 0.]])\n"
     ]
    }
   ],
   "source": [
    "## we can use almost all of the operators used in numpy in tensor\n",
    "A= torch.eye(4)\n",
    "print (A[0:2])\n",
    "print (A[:,0:2])"
   ]
  },
  {
   "cell_type": "markdown",
   "metadata": {},
   "source": [
    "### Converting Tensor to Numpy and Vice Versa:"
   ]
  },
  {
   "cell_type": "code",
   "execution_count": 40,
   "metadata": {},
   "outputs": [
    {
     "name": "stdout",
     "output_type": "stream",
     "text": [
      "tensor([[-0.4141,  1.2926,  0.9139,  1.1765],\n",
      "        [-1.2926, -0.5543,  1.8079,  0.9514],\n",
      "        [-1.7203, -0.1145,  0.0322,  1.0365],\n",
      "        [-0.7149,  2.9967,  0.1064, -0.9617]])\n",
      "[[-0.41412702  1.2926228   0.9138765   1.1764615 ]\n",
      " [-1.2925781  -0.55432403  1.8079388   0.9514374 ]\n",
      " [-1.720293   -0.11450333  0.03217447  1.0364578 ]\n",
      " [-0.71490216  2.9967227   0.10644145 -0.9617438 ]]\n",
      "tensor([[1., 0., 0.],\n",
      "        [0., 1., 0.],\n",
      "        [0., 0., 1.]], dtype=torch.float64)\n"
     ]
    }
   ],
   "source": [
    "A= torch.randn(4,4)\n",
    "print(A)\n",
    "\n",
    "### Torch to Numpy: \n",
    "print(A.numpy())\n",
    "\n",
    "### Numpy to Torch:\n",
    "B=torch.from_numpy(np.eye(3))\n",
    "print(B)"
   ]
  },
  {
   "cell_type": "code",
   "execution_count": 45,
   "metadata": {},
   "outputs": [
    {
     "name": "stdout",
     "output_type": "stream",
     "text": [
      "tensor([-0.4787])\n",
      "-0.47873610258102417\n"
     ]
    }
   ],
   "source": [
    "### If you have a one element tensor.  \n",
    "x= torch.randn(1)\n",
    "print(x)\n",
    "\n",
    "#use 'item' to get the values as a pytorch number\n",
    "print(x.item())"
   ]
  },
  {
   "cell_type": "markdown",
   "metadata": {},
   "source": [
    "### Use of CUDA Tensors\n",
    "##### All the Tensors on the CPU except a CharTensor support converting to Numpy and back. Tensors can be moved onto any device using the \"to\" method. We will use 'torch.device' to move tensors in and out of GPU. Lets check if CUDA is available in this machine;\n"
   ]
  },
  {
   "cell_type": "code",
   "execution_count": 33,
   "metadata": {},
   "outputs": [
    {
     "name": "stdout",
     "output_type": "stream",
     "text": [
      "Not Available\n"
     ]
    }
   ],
   "source": [
    "if torch.cuda.is_available():\n",
    "    print (\"Yes\")\n",
    "else:\n",
    "    print(\"Not Available\")"
   ]
  },
  {
   "cell_type": "code",
   "execution_count": 24,
   "metadata": {},
   "outputs": [],
   "source": [
    "if torch.cuda.is_available():\n",
    "    device = torch.device(\"cuda\")   # CUDA Device object\n",
    "    y= torch.ones_like(x, device=device) # Directly create a tensor on GPU \n",
    "    x=x.to(device)  #'to' cuda \n",
    "    z=x+y\n",
    "    print(z)  "
   ]
  },
  {
   "cell_type": "markdown",
   "metadata": {},
   "source": [
    "### Create a Neural Network Using Pytorch: "
   ]
  },
  {
   "cell_type": "markdown",
   "metadata": {},
   "source": [
    "        Start -----------Neural Network----------using -------torch.nn.package ------------autograd\n",
    "        |\n",
    "        |              --------Methods--------forward(input)------------returns output\n",
    "        |             |\n",
    "        nn.module ----\n",
    "                      |\n",
    "                      ---------layers\n",
    "        "
   ]
  },
  {
   "cell_type": "code",
   "execution_count": 39,
   "metadata": {},
   "outputs": [
    {
     "data": {
      "image/jpeg": "[encoded data removed]",
      "text/plain": [
       "<IPython.core.display.Image object>"
      ]
     },
     "execution_count": 39,
     "metadata": {},
     "output_type": "execute_result"
    }
   ],
   "source": [
    "### Training Procedure for a neural network is as follows:\n",
    "from IPython.display import Image\n",
    "Image(\"neural_training.jpg\")"
   ]
  },
  {
   "cell_type": "markdown",
   "metadata": {},
   "source": [
    "#### Quick Recap: \n",
    "        Torch.Tensor---------Multi-Dimensional array with support for autograd operations like backward()\n",
    "        nn.Module------------Neural Network module for encapsulating parameters to mve them to GPU \n",
    "        nn.Parameter---------Tensor which is registered as parameter when assigned as attribute to module\n",
    "        Autograd.Function----Implements forward and backward definations of an autograd operations"
   ]
  },
  {
   "cell_type": "markdown",
   "metadata": {},
   "source": [
    "### Autograd:"
   ]
  },
  {
   "cell_type": "code",
   "execution_count": 51,
   "metadata": {},
   "outputs": [
    {
     "name": "stdout",
     "output_type": "stream",
     "text": [
      "tensor([1.])\n"
     ]
    },
    {
     "data": {
      "text/plain": [
       "False"
      ]
     },
     "execution_count": 51,
     "metadata": {},
     "output_type": "execute_result"
    }
   ],
   "source": [
    "from torch import autograd\n",
    "w= torch.ones(1)\n",
    "print(w)\n",
    "w.requires_grad"
   ]
  },
  {
   "cell_type": "code",
   "execution_count": 47,
   "metadata": {},
   "outputs": [
    {
     "name": "stdout",
     "output_type": "stream",
     "text": [
      "False\n"
     ]
    },
    {
     "data": {
      "text/plain": [
       "tensor([3.])"
      ]
     },
     "execution_count": 47,
     "metadata": {},
     "output_type": "execute_result"
    }
   ],
   "source": [
    "z= torch.ones(1)*2\n",
    "print(z.requires_grad)\n",
    "\n",
    "total= w+z\n",
    "total"
   ]
  },
  {
   "cell_type": "code",
   "execution_count": 50,
   "metadata": {},
   "outputs": [],
   "source": [
    "total.backward()"
   ]
  },
  {
   "cell_type": "code",
   "execution_count": 52,
   "metadata": {},
   "outputs": [
    {
     "name": "stdout",
     "output_type": "stream",
     "text": [
      "tensor([1.], requires_grad=True)\n"
     ]
    },
    {
     "data": {
      "text/plain": [
       "True"
      ]
     },
     "execution_count": 52,
     "metadata": {},
     "output_type": "execute_result"
    }
   ],
   "source": [
    "w= torch.ones(1, requires_grad=True)  # True will allow to use backward to get gradient\n",
    "print(w)\n",
    "w.requires_grad"
   ]
  },
  {
   "cell_type": "code",
   "execution_count": 53,
   "metadata": {},
   "outputs": [
    {
     "name": "stdout",
     "output_type": "stream",
     "text": [
      "False\n"
     ]
    },
    {
     "data": {
      "text/plain": [
       "tensor([3.], grad_fn=<AddBackward0>)"
      ]
     },
     "execution_count": 53,
     "metadata": {},
     "output_type": "execute_result"
    }
   ],
   "source": [
    "z= torch.ones(1)*2\n",
    "print(z.requires_grad)\n",
    "\n",
    "total= w+z\n",
    "total"
   ]
  },
  {
   "cell_type": "code",
   "execution_count": 54,
   "metadata": {},
   "outputs": [],
   "source": [
    "total.backward()"
   ]
  },
  {
   "cell_type": "code",
   "execution_count": 55,
   "metadata": {},
   "outputs": [
    {
     "data": {
      "text/plain": [
       "tensor([1.])"
      ]
     },
     "execution_count": 55,
     "metadata": {},
     "output_type": "execute_result"
    }
   ],
   "source": [
    "w.grad"
   ]
  },
  {
   "cell_type": "code",
   "execution_count": 58,
   "metadata": {},
   "outputs": [
    {
     "data": {
      "text/plain": [
       "False"
      ]
     },
     "execution_count": 58,
     "metadata": {},
     "output_type": "execute_result"
    }
   ],
   "source": [
    "with torch.no_grad():  ## This will help you not to track gradient if you know you are not going to use it later\n",
    "    total =w+z \n",
    "total.requires_grad"
   ]
  },
  {
   "cell_type": "markdown",
   "metadata": {},
   "source": [
    "..............\n",
    "The Biggest advantage of using tensor is it will auto calculate gradient. Also, Tensor can be easily move to GPU. Therefore there is the need to define tensor over numpy array.\n",
    "..........."
   ]
  },
  {
   "cell_type": "markdown",
   "metadata": {},
   "source": [
    "#### Step by Step for Neural Network:"
   ]
  },
  {
   "cell_type": "code",
   "execution_count": 11,
   "metadata": {},
   "outputs": [],
   "source": [
    "### Some Examples: \n",
    "import torch \n",
    "import torch.nn as nn #neural nework\n",
    "import torch.nn.functional as F # functional interface very similar to nn\n",
    "from collections import OrderedDict\n",
    "import torchvision\n",
    "\n",
    "## Simple Sequential model\n",
    "## \n",
    "layers = OrderedDict([\n",
    "    ('conv2_layer_1' , nn.Conv2d(in_channels=1, out_channels=20, kernel_size=5)),\n",
    "    ('relu_layer_1', nn.ReLU()),\n",
    "    ('conv2_layer_2', nn.Conv2d(26,64,5)),\n",
    "    ('relu_layer_2', nn.ReLU())\n",
    "])\n",
    "\n",
    "model =nn.Sequential(layers)"
   ]
  },
  {
   "cell_type": "code",
   "execution_count": 10,
   "metadata": {},
   "outputs": [],
   "source": [
    "class Net(nn.Module):  # create the class , inherate from nn\n",
    "    def __init__(self):  #\n",
    "        super(Net, self).__init__()  # parent function\n",
    "        self.conv1= nn.Conv2d(in_channels=2, out_channels=6, kernel_size=5)\n",
    "        self.pool = nn.MaxPool2d(2,2)\n",
    "        self.conv2 = nn.Conv2d(in_channels=6, out_channels=16, kernel_size=5)\n",
    "        self.fc1 = nn.Linear(in_features=16*5*5, out_features=120)\n",
    "        self.fc2= nn.Linear(120, 84)\n",
    "        self.fc3 = nn.Linear(84,10)\n",
    "        \n",
    "    def forward(self, x):\n",
    "        x= self.pool(F.relu(self.conv1(x)))\n",
    "        x= self.pool(F.relu(self.conv2(x)))\n",
    "        x=x.view(-1, 16*5*5)\n",
    "        x= F.relu(self.fc1(x))\n",
    "        x= F.relu(self.fc2(x))\n",
    "        x= self.fc3(x)\n",
    "        return x\n",
    "    \n",
    "net = Net()"
   ]
  },
  {
   "cell_type": "code",
   "execution_count": null,
   "metadata": {},
   "outputs": [],
   "source": []
  }
 ],
 "metadata": {
  "kernelspec": {
   "display_name": "Python 3",
   "language": "python",
   "name": "python3"
  },
  "language_info": {
   "codemirror_mode": {
    "name": "ipython",
    "version": 3
   },
   "file_extension": ".py",
   "mimetype": "text/x-python",
   "name": "python",
   "nbconvert_exporter": "python",
   "pygments_lexer": "ipython3",
   "version": "3.7.1"
  }
 },
 "nbformat": 4,
 "nbformat_minor": 2
}

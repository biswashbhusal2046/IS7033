{
 "cells": [
  {
   "cell_type": "code",
   "execution_count": null,
   "metadata": {},
   "outputs": [],
   "source": [
    "#https://d4nst.github.io/2017/01/12/image-orientation/"
   ]
  },
  {
   "cell_type": "code",
   "execution_count": 94,
   "metadata": {},
   "outputs": [],
   "source": [
    "# Import packages \n",
    "import os \n",
    "import torch \n",
    "import torch.nn as nn\n",
    "from torch.autograd import Variable \n",
    "import torchvision.datasets as datasets\n",
    "import torchvision.transforms as transforms\n",
    "import torch.nn.functional as F\n",
    "import torch.optim as optim \n",
    "import torchvision\n",
    "import numpy as np\n",
    "from torchsummary import summary\n",
    "#from torchvision import transforms"
   ]
  },
  {
   "cell_type": "code",
   "execution_count": 95,
   "metadata": {},
   "outputs": [],
   "source": [
    "root = './data'\n",
    "if not os.path.exists(root):\n",
    "    os.mkdir(root)\n",
    "    "
   ]
  },
  {
   "cell_type": "code",
   "execution_count": 96,
   "metadata": {},
   "outputs": [
    {
     "data": {
      "text/plain": [
       "<torch._C.Generator at 0x1ad513e56f0>"
      ]
     },
     "execution_count": 96,
     "metadata": {},
     "output_type": "execute_result"
    }
   ],
   "source": [
    "n_epochs =2\n",
    "batch_size=100\n",
    "learning_rate =0.01\n",
    "momentum =0.9\n",
    "log_interval =10\n",
    "rotation = 90 \n",
    "\n",
    "random_seed =2046\n",
    "torch.backends.cudnn.enabled =False\n",
    "torch.manual_seed(random_seed)"
   ]
  },
  {
   "cell_type": "code",
   "execution_count": 89,
   "metadata": {},
   "outputs": [],
   "source": [
    "### Use Horizontal Flip \n",
    "data_transforms_horizontal = transforms.Compose([\n",
    "    transforms.Scale(28),\n",
    "  transforms.RandomHorizontalFlip(),\n",
    "    transforms.ToTensor(),\n",
    "    transforms.Normalize((0.1307,),(0.5081,))\n",
    "])"
   ]
  },
  {
   "cell_type": "code",
   "execution_count": 105,
   "metadata": {},
   "outputs": [],
   "source": [
    "### USe Vertical Flip \n",
    "data_transforms_vertical = transforms.Compose([\n",
    "    transforms.Scale(28),\n",
    "  transforms.RandomVerticalFlip(),\n",
    "    transforms.ToTensor(),\n",
    "    transforms.Normalize((0.1307,),(0.5081,))\n",
    "])"
   ]
  },
  {
   "cell_type": "code",
   "execution_count": 139,
   "metadata": {},
   "outputs": [],
   "source": [
    "#### rotate with custon angle\n",
    "data_transforms_rotations = transforms.Compose([\n",
    "    transforms.Scale(28),\n",
    "    transforms.RandomRotation((90,90)),\n",
    "    transforms.ToTensor(),\n",
    "    transforms.Normalize((0.1307,),(0.5081,))\n",
    "])"
   ]
  },
  {
   "cell_type": "code",
   "execution_count": 140,
   "metadata": {},
   "outputs": [
    {
     "data": {
      "text/plain": [
       "\"\\ndata_transform = transforms.Compose([\\n        transforms.RandomSizedCrop(224),\\n        transforms.RandomHorizontalFlip(),\\n        transforms.ToTensor(),\\n          transforms.Normalize((0.1307,), (0.5081,)])\\n          \\n          \\n          ### Torch Vision offers a lot of transformation, such as cropping or normalization \\ntrans_norm= transforms.Compose([transforms.ToTensor(), transforms.Normalize((0.5,),(1.0,)),    ImgAugTransform(),\\n    lambda x: PIL.Image.fromarray(x),\\n    torchvision.transforms.RandomVerticalFlip()])\\n    \\n    \\n    \\n transforms = torchvision.transforms.Compose([\\n    ImgAugTransform(),\\n    lambda x: PIL.Image.fromarray(x),\\n    torchvision.transforms.RandomVerticalFlip()\\n])\\n\\ndataset = torchvision.datasets.ImageFolder('pytorch-examples/data/', transform=transforms)\\n\\nshow_dataset(dataset)\\n\""
      ]
     },
     "execution_count": 140,
     "metadata": {},
     "output_type": "execute_result"
    }
   ],
   "source": [
    "\"\"\"\n",
    "data_transform = transforms.Compose([\n",
    "        transforms.RandomSizedCrop(224),\n",
    "        transforms.RandomHorizontalFlip(),\n",
    "        transforms.ToTensor(),\n",
    "          transforms.Normalize((0.1307,), (0.5081,)])\n",
    "          \n",
    "          \n",
    "          ### Torch Vision offers a lot of transformation, such as cropping or normalization \n",
    "trans_norm= transforms.Compose([transforms.ToTensor(), transforms.Normalize((0.5,),(1.0,)),    ImgAugTransform(),\n",
    "    lambda x: PIL.Image.fromarray(x),\n",
    "    torchvision.transforms.RandomVerticalFlip()])\n",
    "    \n",
    "    \n",
    "    \n",
    " transforms = torchvision.transforms.Compose([\n",
    "    ImgAugTransform(),\n",
    "    lambda x: PIL.Image.fromarray(x),\n",
    "    torchvision.transforms.RandomVerticalFlip()\n",
    "])\n",
    "\n",
    "dataset = torchvision.datasets.ImageFolder('pytorch-examples/data/', transform=transforms)\n",
    "\n",
    "show_dataset(dataset)\n",
    "\"\"\"\n"
   ]
  },
  {
   "cell_type": "code",
   "execution_count": 141,
   "metadata": {},
   "outputs": [],
   "source": [
    "train_set = datasets.MNIST(root=root, train =True, transform =data_transforms_rotations, download= True)\n",
    "test_set = datasets.MNIST(root=root, train =False, transform =data_transforms_rotations, download= True)"
   ]
  },
  {
   "cell_type": "code",
   "execution_count": 142,
   "metadata": {},
   "outputs": [
    {
     "name": "stdout",
     "output_type": "stream",
     "text": [
      "60000\n",
      "10000\n"
     ]
    }
   ],
   "source": [
    "print (len(train_set))\n",
    "print (len(test_set))"
   ]
  },
  {
   "cell_type": "code",
   "execution_count": 143,
   "metadata": {},
   "outputs": [
    {
     "name": "stdout",
     "output_type": "stream",
     "text": [
      "Total Training Batch Number: 600\n",
      "Total Test Batch Number: 100\n"
     ]
    }
   ],
   "source": [
    "#Define the batch size\n",
    "batch_size= 100\n",
    "\n",
    "## load the dataset\n",
    "#Data loader. Combines a dataset and a sampler, and provides single- or multi-process iterators over the dataset.\n",
    "train_loader = torch.utils.data.DataLoader(dataset=train_set, batch_size= batch_size, shuffle= True)\n",
    "test_loader= torch.utils.data.DataLoader(dataset=test_set, batch_size=batch_size, shuffle=True)\n",
    "\n",
    "print ('Total Training Batch Number: {}'.format(len(train_loader)))\n",
    "print ('Total Test Batch Number: {}'.format(len(test_loader)))"
   ]
  },
  {
   "cell_type": "code",
   "execution_count": 144,
   "metadata": {},
   "outputs": [],
   "source": [
    "examples = enumerate(test_loader)\n",
    "batch_idx, (example_data, example_targets) = next(examples)"
   ]
  },
  {
   "cell_type": "code",
   "execution_count": 145,
   "metadata": {},
   "outputs": [
    {
     "data": {
      "text/plain": [
       "torch.Size([100, 1, 28, 28])"
      ]
     },
     "execution_count": 145,
     "metadata": {},
     "output_type": "execute_result"
    }
   ],
   "source": [
    "example_data.shape"
   ]
  },
  {
   "cell_type": "code",
   "execution_count": 146,
   "metadata": {},
   "outputs": [
    {
     "data": {
      "image/png": "[encoded data removed]",
      "text/plain": [
       "<Figure size 432x288 with 6 Axes>"
      ]
     },
     "execution_count": 146,
     "metadata": {},
     "output_type": "execute_result"
    },
    {
     "data": {
      "image/png": "[encoded data removed]",
      "text/plain": [
       "<Figure size 432x288 with 6 Axes>"
      ]
     },
     "metadata": {},
     "output_type": "display_data"
    }
   ],
   "source": [
    "import matplotlib.pyplot as plt\n",
    "%matplotlib inline\n",
    "\n",
    "fig = plt.figure()\n",
    "for i in range(6):\n",
    "  plt.subplot(2,3,i+1)\n",
    "  plt.tight_layout()\n",
    "  plt.imshow(example_data[i][0], cmap='gray', interpolation='none')\n",
    "  plt.title(\"Ground Truth: {}\".format(example_targets[i]))\n",
    "  plt.xticks([])\n",
    "  plt.yticks([])\n",
    "fig"
   ]
  },
  {
   "cell_type": "code",
   "execution_count": 150,
   "metadata": {},
   "outputs": [],
   "source": [
    "class Net(nn.Module):\n",
    "    def __init__(self):\n",
    "        super(Net, self).__init__()\n",
    "        self.conv1 = nn.Conv2d(1, 10, kernel_size=5)\n",
    "        self.conv2 = nn.Conv2d(10, 20, kernel_size=5)\n",
    "        self.conv2_drop = nn.Dropout2d()\n",
    "        self.fc1 = nn.Linear(320, 50)\n",
    "        self.fc2 = nn.Linear(50, 10)\n",
    "\n",
    "    def forward(self, x):\n",
    "        x = F.relu(F.max_pool2d(self.conv1(x), 2))\n",
    "        x = F.relu(F.max_pool2d(self.conv2_drop(self.conv2(x)), 2))\n",
    "        x = x.view(-1, 320)\n",
    "        x = F.relu(self.fc1(x))\n",
    "        x = F.dropout(x, training=self.training)\n",
    "        x = self.fc2(x)\n",
    "        return F.log_softmax(x)"
   ]
  },
  {
   "cell_type": "code",
   "execution_count": 151,
   "metadata": {},
   "outputs": [],
   "source": [
    "network = Net()\n",
    "optimizer = optim.SGD(network.parameters(), lr=learning_rate,\n",
    "                      momentum=momentum)"
   ]
  },
  {
   "cell_type": "code",
   "execution_count": 152,
   "metadata": {},
   "outputs": [
    {
     "name": "stderr",
     "output_type": "stream",
     "text": [
      "C:\\Users\\Biswash\\Anaconda3\\lib\\site-packages\\ipykernel_launcher.py:17: UserWarning: Implicit dimension choice for log_softmax has been deprecated. Change the call to include dim=X as an argument.\n"
     ]
    },
    {
     "name": "stdout",
     "output_type": "stream",
     "text": [
      "----------------------------------------------------------------\n",
      "        Layer (type)               Output Shape         Param #\n",
      "================================================================\n",
      "            Conv2d-1           [-1, 10, 24, 24]             260\n",
      "            Conv2d-2             [-1, 20, 8, 8]           5,020\n",
      "         Dropout2d-3             [-1, 20, 8, 8]               0\n",
      "            Linear-4                   [-1, 50]          16,050\n",
      "            Linear-5                   [-1, 10]             510\n",
      "================================================================\n",
      "Total params: 21,840\n",
      "Trainable params: 21,840\n",
      "Non-trainable params: 0\n",
      "----------------------------------------------------------------\n",
      "Input size (MB): 0.00\n",
      "Forward/backward pass size (MB): 0.06\n",
      "Params size (MB): 0.08\n",
      "Estimated Total Size (MB): 0.15\n",
      "----------------------------------------------------------------\n"
     ]
    }
   ],
   "source": [
    "summary(network, (1, 28, 28))"
   ]
  },
  {
   "cell_type": "code",
   "execution_count": 153,
   "metadata": {},
   "outputs": [],
   "source": [
    "train_losses = []\n",
    "train_counter = []\n",
    "test_losses = []\n",
    "test_counter = [i*len(train_loader.dataset) for i in range(n_epochs + 1)]"
   ]
  },
  {
   "cell_type": "code",
   "execution_count": 154,
   "metadata": {},
   "outputs": [],
   "source": [
    "def train(epoch):\n",
    "  network.train()\n",
    "  for batch_idx, (data, target) in enumerate(train_loader):\n",
    "    optimizer.zero_grad()\n",
    "    output = network(data)\n",
    "    loss = F.nll_loss(output, target)\n",
    "    loss.backward()\n",
    "    optimizer.step()\n",
    "    if batch_idx % log_interval == 0:\n",
    "      print('Train Epoch: {} [{}/{} ({:.0f}%)]\\tLoss: {:.6f}'.format(\n",
    "        epoch, batch_idx * len(data), len(train_loader.dataset),\n",
    "        100. * batch_idx / len(train_loader), loss.item()))\n",
    "      train_losses.append(loss.item())\n",
    "      train_counter.append(\n",
    "        (batch_idx*64) + ((epoch-1)*len(train_loader.dataset)))\n",
    "      torch.save(network.state_dict(), 'D:/PhD_IT/ML_class/model_rotation.pth')\n",
    "      torch.save(optimizer.state_dict(), 'D:/PhD_IT/ML_class/optimizer_rotation.pth')"
   ]
  },
  {
   "cell_type": "code",
   "execution_count": 155,
   "metadata": {},
   "outputs": [],
   "source": [
    "def test():\n",
    "  network.eval()\n",
    "  test_loss = 0\n",
    "  correct = 0\n",
    "  with torch.no_grad():\n",
    "    for data, target in test_loader:\n",
    "      output = network(data)\n",
    "      test_loss += F.nll_loss(output, target, size_average=False).item()\n",
    "      pred = output.data.max(1, keepdim=True)[1]\n",
    "      correct += pred.eq(target.data.view_as(pred)).sum()\n",
    "  test_loss /= len(test_loader.dataset)\n",
    "  test_losses.append(test_loss)\n",
    "  print('\\nTest set: Avg. loss: {:.4f}, Accuracy: {}/{} ({:.0f}%)\\n'.format(\n",
    "    test_loss, correct, len(test_loader.dataset),\n",
    "    100. * correct / len(test_loader.dataset)))"
   ]
  },
  {
   "cell_type": "code",
   "execution_count": 156,
   "metadata": {},
   "outputs": [
    {
     "name": "stderr",
     "output_type": "stream",
     "text": [
      "C:\\Users\\Biswash\\Anaconda3\\lib\\site-packages\\ipykernel_launcher.py:17: UserWarning: Implicit dimension choice for log_softmax has been deprecated. Change the call to include dim=X as an argument.\n"
     ]
    },
    {
     "name": "stdout",
     "output_type": "stream",
     "text": [
      "\n",
      "Test set: Avg. loss: 2.3137, Accuracy: 989/10000 (9%)\n",
      "\n",
      "Train Epoch: 1 [0/60000 (0%)]\tLoss: 2.326929\n",
      "Train Epoch: 1 [1000/60000 (2%)]\tLoss: 2.317420\n",
      "Train Epoch: 1 [2000/60000 (3%)]\tLoss: 2.285907\n",
      "Train Epoch: 1 [3000/60000 (5%)]\tLoss: 2.293365\n",
      "Train Epoch: 1 [4000/60000 (7%)]\tLoss: 2.215329\n",
      "Train Epoch: 1 [5000/60000 (8%)]\tLoss: 2.145231\n",
      "Train Epoch: 1 [6000/60000 (10%)]\tLoss: 1.978567\n",
      "Train Epoch: 1 [7000/60000 (12%)]\tLoss: 1.819432\n",
      "Train Epoch: 1 [8000/60000 (13%)]\tLoss: 1.542487\n",
      "Train Epoch: 1 [9000/60000 (15%)]\tLoss: 1.423718\n",
      "Train Epoch: 1 [10000/60000 (17%)]\tLoss: 1.205225\n",
      "Train Epoch: 1 [11000/60000 (18%)]\tLoss: 0.786179\n",
      "Train Epoch: 1 [12000/60000 (20%)]\tLoss: 0.980577\n",
      "Train Epoch: 1 [13000/60000 (22%)]\tLoss: 0.905427\n",
      "Train Epoch: 1 [14000/60000 (23%)]\tLoss: 0.828304\n",
      "Train Epoch: 1 [15000/60000 (25%)]\tLoss: 0.751163\n",
      "Train Epoch: 1 [16000/60000 (27%)]\tLoss: 0.640269\n",
      "Train Epoch: 1 [17000/60000 (28%)]\tLoss: 0.537931\n",
      "Train Epoch: 1 [18000/60000 (30%)]\tLoss: 0.779402\n",
      "Train Epoch: 1 [19000/60000 (32%)]\tLoss: 0.494053\n",
      "Train Epoch: 1 [20000/60000 (33%)]\tLoss: 0.490940\n",
      "Train Epoch: 1 [21000/60000 (35%)]\tLoss: 0.545835\n",
      "Train Epoch: 1 [22000/60000 (37%)]\tLoss: 0.530672\n",
      "Train Epoch: 1 [23000/60000 (38%)]\tLoss: 0.611166\n",
      "Train Epoch: 1 [24000/60000 (40%)]\tLoss: 0.543057\n",
      "Train Epoch: 1 [25000/60000 (42%)]\tLoss: 0.614327\n",
      "Train Epoch: 1 [26000/60000 (43%)]\tLoss: 0.539458\n",
      "Train Epoch: 1 [27000/60000 (45%)]\tLoss: 0.588205\n",
      "Train Epoch: 1 [28000/60000 (47%)]\tLoss: 0.454542\n",
      "Train Epoch: 1 [29000/60000 (48%)]\tLoss: 0.630380\n",
      "Train Epoch: 1 [30000/60000 (50%)]\tLoss: 0.839445\n",
      "Train Epoch: 1 [31000/60000 (52%)]\tLoss: 0.427096\n",
      "Train Epoch: 1 [32000/60000 (53%)]\tLoss: 0.552483\n",
      "Train Epoch: 1 [33000/60000 (55%)]\tLoss: 0.468754\n",
      "Train Epoch: 1 [34000/60000 (57%)]\tLoss: 0.406924\n",
      "Train Epoch: 1 [35000/60000 (58%)]\tLoss: 0.511974\n",
      "Train Epoch: 1 [36000/60000 (60%)]\tLoss: 0.533216\n",
      "Train Epoch: 1 [37000/60000 (62%)]\tLoss: 0.537094\n",
      "Train Epoch: 1 [38000/60000 (63%)]\tLoss: 0.481479\n",
      "Train Epoch: 1 [39000/60000 (65%)]\tLoss: 0.335256\n",
      "Train Epoch: 1 [40000/60000 (67%)]\tLoss: 0.317661\n",
      "Train Epoch: 1 [41000/60000 (68%)]\tLoss: 0.341535\n",
      "Train Epoch: 1 [42000/60000 (70%)]\tLoss: 0.442702\n",
      "Train Epoch: 1 [43000/60000 (72%)]\tLoss: 0.511268\n",
      "Train Epoch: 1 [44000/60000 (73%)]\tLoss: 0.304199\n",
      "Train Epoch: 1 [45000/60000 (75%)]\tLoss: 0.319179\n",
      "Train Epoch: 1 [46000/60000 (77%)]\tLoss: 0.456036\n",
      "Train Epoch: 1 [47000/60000 (78%)]\tLoss: 0.458197\n",
      "Train Epoch: 1 [48000/60000 (80%)]\tLoss: 0.271093\n",
      "Train Epoch: 1 [49000/60000 (82%)]\tLoss: 0.411838\n",
      "Train Epoch: 1 [50000/60000 (83%)]\tLoss: 0.372896\n",
      "Train Epoch: 1 [51000/60000 (85%)]\tLoss: 0.382256\n",
      "Train Epoch: 1 [52000/60000 (87%)]\tLoss: 0.405377\n",
      "Train Epoch: 1 [53000/60000 (88%)]\tLoss: 0.347316\n",
      "Train Epoch: 1 [54000/60000 (90%)]\tLoss: 0.229819\n",
      "Train Epoch: 1 [55000/60000 (92%)]\tLoss: 0.296582\n",
      "Train Epoch: 1 [56000/60000 (93%)]\tLoss: 0.517922\n",
      "Train Epoch: 1 [57000/60000 (95%)]\tLoss: 0.358188\n",
      "Train Epoch: 1 [58000/60000 (97%)]\tLoss: 0.289616\n",
      "Train Epoch: 1 [59000/60000 (98%)]\tLoss: 0.345838\n",
      "\n",
      "Test set: Avg. loss: 0.1200, Accuracy: 9655/10000 (96%)\n",
      "\n",
      "Train Epoch: 2 [0/60000 (0%)]\tLoss: 0.486405\n",
      "Train Epoch: 2 [1000/60000 (2%)]\tLoss: 0.354311\n",
      "Train Epoch: 2 [2000/60000 (3%)]\tLoss: 0.268961\n",
      "Train Epoch: 2 [3000/60000 (5%)]\tLoss: 0.268989\n",
      "Train Epoch: 2 [4000/60000 (7%)]\tLoss: 0.242222\n",
      "Train Epoch: 2 [5000/60000 (8%)]\tLoss: 0.296601\n",
      "Train Epoch: 2 [6000/60000 (10%)]\tLoss: 0.352377\n",
      "Train Epoch: 2 [7000/60000 (12%)]\tLoss: 0.338325\n",
      "Train Epoch: 2 [8000/60000 (13%)]\tLoss: 0.525629\n",
      "Train Epoch: 2 [9000/60000 (15%)]\tLoss: 0.409477\n",
      "Train Epoch: 2 [10000/60000 (17%)]\tLoss: 0.291230\n",
      "Train Epoch: 2 [11000/60000 (18%)]\tLoss: 0.318644\n",
      "Train Epoch: 2 [12000/60000 (20%)]\tLoss: 0.370947\n",
      "Train Epoch: 2 [13000/60000 (22%)]\tLoss: 0.213111\n",
      "Train Epoch: 2 [14000/60000 (23%)]\tLoss: 0.374006\n",
      "Train Epoch: 2 [15000/60000 (25%)]\tLoss: 0.268122\n",
      "Train Epoch: 2 [16000/60000 (27%)]\tLoss: 0.253874\n",
      "Train Epoch: 2 [17000/60000 (28%)]\tLoss: 0.330885\n",
      "Train Epoch: 2 [18000/60000 (30%)]\tLoss: 0.265125\n",
      "Train Epoch: 2 [19000/60000 (32%)]\tLoss: 0.298657\n",
      "Train Epoch: 2 [20000/60000 (33%)]\tLoss: 0.339054\n",
      "Train Epoch: 2 [21000/60000 (35%)]\tLoss: 0.196508\n",
      "Train Epoch: 2 [22000/60000 (37%)]\tLoss: 0.417953\n",
      "Train Epoch: 2 [23000/60000 (38%)]\tLoss: 0.472974\n",
      "Train Epoch: 2 [24000/60000 (40%)]\tLoss: 0.291818\n",
      "Train Epoch: 2 [25000/60000 (42%)]\tLoss: 0.215220\n",
      "Train Epoch: 2 [26000/60000 (43%)]\tLoss: 0.249249\n",
      "Train Epoch: 2 [27000/60000 (45%)]\tLoss: 0.292884\n",
      "Train Epoch: 2 [28000/60000 (47%)]\tLoss: 0.310603\n",
      "Train Epoch: 2 [29000/60000 (48%)]\tLoss: 0.143131\n",
      "Train Epoch: 2 [30000/60000 (50%)]\tLoss: 0.206377\n",
      "Train Epoch: 2 [31000/60000 (52%)]\tLoss: 0.297233\n",
      "Train Epoch: 2 [32000/60000 (53%)]\tLoss: 0.278291\n",
      "Train Epoch: 2 [33000/60000 (55%)]\tLoss: 0.377135\n",
      "Train Epoch: 2 [34000/60000 (57%)]\tLoss: 0.342591\n",
      "Train Epoch: 2 [35000/60000 (58%)]\tLoss: 0.211945\n",
      "Train Epoch: 2 [36000/60000 (60%)]\tLoss: 0.281286\n",
      "Train Epoch: 2 [37000/60000 (62%)]\tLoss: 0.334449\n",
      "Train Epoch: 2 [38000/60000 (63%)]\tLoss: 0.273347\n",
      "Train Epoch: 2 [39000/60000 (65%)]\tLoss: 0.330218\n",
      "Train Epoch: 2 [40000/60000 (67%)]\tLoss: 0.353755\n",
      "Train Epoch: 2 [41000/60000 (68%)]\tLoss: 0.253436\n",
      "Train Epoch: 2 [42000/60000 (70%)]\tLoss: 0.210333\n",
      "Train Epoch: 2 [43000/60000 (72%)]\tLoss: 0.163686\n",
      "Train Epoch: 2 [44000/60000 (73%)]\tLoss: 0.266650\n",
      "Train Epoch: 2 [45000/60000 (75%)]\tLoss: 0.205547\n",
      "Train Epoch: 2 [46000/60000 (77%)]\tLoss: 0.274367\n",
      "Train Epoch: 2 [47000/60000 (78%)]\tLoss: 0.228258\n",
      "Train Epoch: 2 [48000/60000 (80%)]\tLoss: 0.389970\n",
      "Train Epoch: 2 [49000/60000 (82%)]\tLoss: 0.379910\n",
      "Train Epoch: 2 [50000/60000 (83%)]\tLoss: 0.387347\n",
      "Train Epoch: 2 [51000/60000 (85%)]\tLoss: 0.225456\n",
      "Train Epoch: 2 [52000/60000 (87%)]\tLoss: 0.206885\n",
      "Train Epoch: 2 [53000/60000 (88%)]\tLoss: 0.225054\n",
      "Train Epoch: 2 [54000/60000 (90%)]\tLoss: 0.262750\n",
      "Train Epoch: 2 [55000/60000 (92%)]\tLoss: 0.444757\n",
      "Train Epoch: 2 [56000/60000 (93%)]\tLoss: 0.153319\n",
      "Train Epoch: 2 [57000/60000 (95%)]\tLoss: 0.263578\n",
      "Train Epoch: 2 [58000/60000 (97%)]\tLoss: 0.323575\n",
      "Train Epoch: 2 [59000/60000 (98%)]\tLoss: 0.217860\n",
      "\n",
      "Test set: Avg. loss: 0.0792, Accuracy: 9761/10000 (97%)\n",
      "\n"
     ]
    }
   ],
   "source": [
    "test()\n",
    "for epoch in range(1, n_epochs+1):\n",
    "  train(epoch)\n",
    "  test()"
   ]
  },
  {
   "cell_type": "code",
   "execution_count": 157,
   "metadata": {},
   "outputs": [
    {
     "name": "stdout",
     "output_type": "stream",
     "text": [
      "120\n",
      "120\n"
     ]
    }
   ],
   "source": [
    "print (len(train_counter))\n",
    "print (len(train_losses))"
   ]
  },
  {
   "cell_type": "code",
   "execution_count": 158,
   "metadata": {},
   "outputs": [
    {
     "name": "stdout",
     "output_type": "stream",
     "text": [
      "3\n",
      "3\n"
     ]
    }
   ],
   "source": [
    "print (len(test_counter))\n",
    "print (len(test_losses))"
   ]
  },
  {
   "cell_type": "code",
   "execution_count": 159,
   "metadata": {},
   "outputs": [
    {
     "data": {
      "image/png": "[encoded data removed]",
      "text/plain": [
       "<Figure size 432x288 with 1 Axes>"
      ]
     },
     "execution_count": 159,
     "metadata": {},
     "output_type": "execute_result"
    },
    {
     "data": {
      "image/png": "[encoded data removed]",
      "text/plain": [
       "<Figure size 432x288 with 1 Axes>"
      ]
     },
     "metadata": {
      "needs_background": "light"
     },
     "output_type": "display_data"
    }
   ],
   "source": [
    "fig = plt.figure()\n",
    "plt.plot(train_counter, train_losses, color='blue')\n",
    "\n",
    "plt.scatter(test_counter[0:3], test_losses[0:3], color='red')\n",
    "plt.legend(['Train Loss', 'Test Loss'], loc='upper right')\n",
    "plt.xlabel('number of training examples')\n",
    "plt.ylabel('negative log likelihood loss')\n",
    "fig"
   ]
  },
  {
   "cell_type": "code",
   "execution_count": null,
   "metadata": {},
   "outputs": [],
   "source": []
  }
 ],
 "metadata": {
  "kernelspec": {
   "display_name": "Python 3",
   "language": "python",
   "name": "python3"
  },
  "language_info": {
   "codemirror_mode": {
    "name": "ipython",
    "version": 3
   },
   "file_extension": ".py",
   "mimetype": "text/x-python",
   "name": "python",
   "nbconvert_exporter": "python",
   "pygments_lexer": "ipython3",
   "version": "3.7.1"
  }
 },
 "nbformat": 4,
 "nbformat_minor": 2
}

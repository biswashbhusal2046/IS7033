{
 "cells": [
  {
   "cell_type": "markdown",
   "metadata": {},
   "source": [
    "https://medium.com/huggingface/universal-word-sentence-embeddings-ce48ddc8fc3a\n",
    "https://tfhub.dev/google/nnlm-en-dim128/1\n",
    "https://tfhub.dev/google/universal-sentence-encoder/2\n",
    "https://blog.feedly.com/transfer-learning-in-nlp/\n",
    "https://medium.com/huggingface/multi-label-text-classification-using-bert-the-mighty-transformer-69714fa3fb3d\n",
    "https://towardsdatascience.com/understanding-feature-engineering-part-4-deep-learning-methods-for-text-data-96c44370bbfa\n"
   ]
  },
  {
   "cell_type": "markdown",
   "metadata": {},
   "source": [
    "### Deep Transfer Learning for NLP"
   ]
  },
  {
   "cell_type": "markdown",
   "metadata": {},
   "source": [
    "### Yelp Dataset- Text Classification with Universal Embeddings:\n",
    "\n",
    "Inspite of being highly unstructured, Textual data can be classified into two major types of documents. \n",
    "    1. Factual documents : This type of documents depict some form of statements or facts with no specific feelings and emotion on it. These are also known as objective documents. \n",
    "    2. Subjective documents: This type of documents have feelings, emotions, sarcasm, prodigy and more. Sentiment analysis is mostly done in this type of datasets.\n",
    "    \n",
    "In this Problem, I will be looking to build supervised sentiment analysis classification models using 5000 reviews classified into positive, neutral and negative sentiment. Data Set is attached along this repository.\n"
   ]
  },
  {
   "cell_type": "markdown",
   "metadata": {},
   "source": [
    "Word and sentence embeddings have become an essential part of any Deep-Learning-based natural language processing systems.\n",
    "\n",
    "They encode words and sentences 📜 in fixed-length dense vectors 📐 to drastically improve the processing of textual data.\n",
    "\n",
    "A huge trend is the quest for Universal Embeddings: embeddings that are pre-trained on a large corpus and can be plugged in a variety of downstream task models (sentimental analysis, classification, translation…) to automatically improve their performance by incorporating some general word/sentence representations learned on the larger dataset."
   ]
  },
  {
   "cell_type": "code",
   "execution_count": 33,
   "metadata": {},
   "outputs": [],
   "source": [
    "import tensorflow as tf\n",
    "import tensorflow_hub as hub"
   ]
  },
  {
   "cell_type": "code",
   "execution_count": 34,
   "metadata": {},
   "outputs": [],
   "source": [
    "## Import libraries and functions\n",
    "import torch \n",
    "import torch.nn as nn\n",
    "import torch.utils.data\n",
    "import pandas as pd\n",
    "import numpy as np\n",
    "import matplotlib.pyplot as plt\n",
    "import matplotlib\n",
    "import seaborn as sns \n",
    "import re\n",
    "import time\n",
    "import random\n",
    "\n",
    "from tqdm import tqdm\n",
    "from sklearn.model_selection import train_test_split\n",
    "from sklearn import metrics\n",
    "from sklearn.model_selection import GridSearchCV, StratifiedKFold\n",
    "from sklearn.metrics import f1_score, roc_auc_score\n",
    "\n",
    "from tensorflow.keras.preprocessing.text import Tokenizer\n",
    "#from tensorflow.keras.preprocessing.sequence import pad_sequences\n"
   ]
  },
  {
   "cell_type": "code",
   "execution_count": 35,
   "metadata": {},
   "outputs": [],
   "source": [
    "lines = []\n",
    "num_totals = 2500\n",
    "import json\n",
    "with open ('D:/PhD_IT/data_set/yelp_academic_dataset_review.json') as f:\n",
    "    for line in f:\n",
    "        if (len(lines) >= (num_totals*2)):\n",
    "            break\n",
    "        lines.append(json.loads(line))"
   ]
  },
  {
   "cell_type": "code",
   "execution_count": 36,
   "metadata": {},
   "outputs": [],
   "source": [
    "texts = [review['text'] for review in lines]\n",
    "stars = [review['stars'] for review in lines]\n",
    "dates = [review['date'] for review in lines]\n",
    "review_id = [review['review_id'] for review in lines]\n",
    "types = [review['type'] for review in lines]"
   ]
  },
  {
   "cell_type": "code",
   "execution_count": 37,
   "metadata": {},
   "outputs": [
    {
     "data": {
      "text/plain": [
       "5000"
      ]
     },
     "execution_count": 37,
     "metadata": {},
     "output_type": "execute_result"
    }
   ],
   "source": [
    "len(texts)"
   ]
  },
  {
   "cell_type": "code",
   "execution_count": 38,
   "metadata": {},
   "outputs": [],
   "source": [
    "df = pd.DataFrame(dates, columns=['Dates'])\n",
    "df['Review_id'] = pd.DataFrame(review_id)\n",
    "df['Review'] = pd.DataFrame(texts)\n",
    "df['Stars']= pd.DataFrame(stars)"
   ]
  },
  {
   "cell_type": "code",
   "execution_count": 39,
   "metadata": {},
   "outputs": [
    {
     "data": {
      "text/html": [
       "<div>\n",
       "<style scoped>\n",
       "    .dataframe tbody tr th:only-of-type {\n",
       "        vertical-align: middle;\n",
       "    }\n",
       "\n",
       "    .dataframe tbody tr th {\n",
       "        vertical-align: top;\n",
       "    }\n",
       "\n",
       "    .dataframe thead th {\n",
       "        text-align: right;\n",
       "    }\n",
       "</style>\n",
       "<table border=\"1\" class=\"dataframe\">\n",
       "  <thead>\n",
       "    <tr style=\"text-align: right;\">\n",
       "      <th></th>\n",
       "      <th>Dates</th>\n",
       "      <th>Review_id</th>\n",
       "      <th>Review</th>\n",
       "      <th>Stars</th>\n",
       "    </tr>\n",
       "  </thead>\n",
       "  <tbody>\n",
       "    <tr>\n",
       "      <th>0</th>\n",
       "      <td>2007-05-17</td>\n",
       "      <td>15SdjuK7DmYqUAj6rjGowg</td>\n",
       "      <td>dr. goldberg offers everything i look for in a...</td>\n",
       "      <td>5</td>\n",
       "    </tr>\n",
       "    <tr>\n",
       "      <th>1</th>\n",
       "      <td>2010-03-22</td>\n",
       "      <td>RF6UnRTtG7tWMcrO2GEoAg</td>\n",
       "      <td>Unfortunately, the frustration of being Dr. Go...</td>\n",
       "      <td>2</td>\n",
       "    </tr>\n",
       "    <tr>\n",
       "      <th>2</th>\n",
       "      <td>2012-02-14</td>\n",
       "      <td>-TsVN230RCkLYKBeLsuz7A</td>\n",
       "      <td>Dr. Goldberg has been my doctor for years and ...</td>\n",
       "      <td>4</td>\n",
       "    </tr>\n",
       "    <tr>\n",
       "      <th>3</th>\n",
       "      <td>2012-03-02</td>\n",
       "      <td>dNocEAyUucjT371NNND41Q</td>\n",
       "      <td>Been going to Dr. Goldberg for over 10 years. ...</td>\n",
       "      <td>4</td>\n",
       "    </tr>\n",
       "    <tr>\n",
       "      <th>4</th>\n",
       "      <td>2012-05-15</td>\n",
       "      <td>ebcN2aqmNUuYNoyvQErgnA</td>\n",
       "      <td>Got a letter in the mail last week that said D...</td>\n",
       "      <td>4</td>\n",
       "    </tr>\n",
       "  </tbody>\n",
       "</table>\n",
       "</div>"
      ],
      "text/plain": [
       "        Dates               Review_id  \\\n",
       "0  2007-05-17  15SdjuK7DmYqUAj6rjGowg   \n",
       "1  2010-03-22  RF6UnRTtG7tWMcrO2GEoAg   \n",
       "2  2012-02-14  -TsVN230RCkLYKBeLsuz7A   \n",
       "3  2012-03-02  dNocEAyUucjT371NNND41Q   \n",
       "4  2012-05-15  ebcN2aqmNUuYNoyvQErgnA   \n",
       "\n",
       "                                              Review  Stars  \n",
       "0  dr. goldberg offers everything i look for in a...      5  \n",
       "1  Unfortunately, the frustration of being Dr. Go...      2  \n",
       "2  Dr. Goldberg has been my doctor for years and ...      4  \n",
       "3  Been going to Dr. Goldberg for over 10 years. ...      4  \n",
       "4  Got a letter in the mail last week that said D...      4  "
      ]
     },
     "execution_count": 39,
     "metadata": {},
     "output_type": "execute_result"
    }
   ],
   "source": [
    "df.head()"
   ]
  },
  {
   "cell_type": "code",
   "execution_count": 40,
   "metadata": {},
   "outputs": [
    {
     "data": {
      "text/plain": [
       "Text(0.5, 0, 'Stars acquired')"
      ]
     },
     "execution_count": 40,
     "metadata": {},
     "output_type": "execute_result"
    },
    {
     "data": {
      "image/png": "[encoded data removed]",
      "text/plain": [
       "<Figure size 576x288 with 1 Axes>"
      ]
     },
     "metadata": {
      "needs_background": "light"
     },
     "output_type": "display_data"
    }
   ],
   "source": [
    "x = df['Stars'].value_counts()\n",
    "y = x.sort_index()\n",
    "plt.figure(figsize=(8,4))\n",
    "ax =sns.barplot(y.index, x.values, alpha=0.8)\n",
    "plt.title(\"Yelp Stars for business\")\n",
    "plt.ylabel('Number of business', fontsize =12)\n",
    "plt.xlabel('Stars acquired',fontsize=12)"
   ]
  },
  {
   "cell_type": "code",
   "execution_count": 42,
   "metadata": {},
   "outputs": [],
   "source": [
    "#df['labels']=df['Stars'].apply(lambda x: -1 if x <3 else (0 if x==3 else 1))  \n",
    "df['labels']=df['Stars'].apply(lambda x: 0 if x <3 else 1)"
   ]
  },
  {
   "cell_type": "code",
   "execution_count": 43,
   "metadata": {},
   "outputs": [
    {
     "data": {
      "text/html": [
       "<div>\n",
       "<style scoped>\n",
       "    .dataframe tbody tr th:only-of-type {\n",
       "        vertical-align: middle;\n",
       "    }\n",
       "\n",
       "    .dataframe tbody tr th {\n",
       "        vertical-align: top;\n",
       "    }\n",
       "\n",
       "    .dataframe thead th {\n",
       "        text-align: right;\n",
       "    }\n",
       "</style>\n",
       "<table border=\"1\" class=\"dataframe\">\n",
       "  <thead>\n",
       "    <tr style=\"text-align: right;\">\n",
       "      <th></th>\n",
       "      <th>Dates</th>\n",
       "      <th>Review_id</th>\n",
       "      <th>Review</th>\n",
       "      <th>Stars</th>\n",
       "      <th>labels</th>\n",
       "    </tr>\n",
       "  </thead>\n",
       "  <tbody>\n",
       "    <tr>\n",
       "      <th>0</th>\n",
       "      <td>2007-05-17</td>\n",
       "      <td>15SdjuK7DmYqUAj6rjGowg</td>\n",
       "      <td>dr. goldberg offers everything i look for in a...</td>\n",
       "      <td>5</td>\n",
       "      <td>1</td>\n",
       "    </tr>\n",
       "    <tr>\n",
       "      <th>1</th>\n",
       "      <td>2010-03-22</td>\n",
       "      <td>RF6UnRTtG7tWMcrO2GEoAg</td>\n",
       "      <td>Unfortunately, the frustration of being Dr. Go...</td>\n",
       "      <td>2</td>\n",
       "      <td>0</td>\n",
       "    </tr>\n",
       "    <tr>\n",
       "      <th>2</th>\n",
       "      <td>2012-02-14</td>\n",
       "      <td>-TsVN230RCkLYKBeLsuz7A</td>\n",
       "      <td>Dr. Goldberg has been my doctor for years and ...</td>\n",
       "      <td>4</td>\n",
       "      <td>1</td>\n",
       "    </tr>\n",
       "    <tr>\n",
       "      <th>3</th>\n",
       "      <td>2012-03-02</td>\n",
       "      <td>dNocEAyUucjT371NNND41Q</td>\n",
       "      <td>Been going to Dr. Goldberg for over 10 years. ...</td>\n",
       "      <td>4</td>\n",
       "      <td>1</td>\n",
       "    </tr>\n",
       "    <tr>\n",
       "      <th>4</th>\n",
       "      <td>2012-05-15</td>\n",
       "      <td>ebcN2aqmNUuYNoyvQErgnA</td>\n",
       "      <td>Got a letter in the mail last week that said D...</td>\n",
       "      <td>4</td>\n",
       "      <td>1</td>\n",
       "    </tr>\n",
       "  </tbody>\n",
       "</table>\n",
       "</div>"
      ],
      "text/plain": [
       "        Dates               Review_id  \\\n",
       "0  2007-05-17  15SdjuK7DmYqUAj6rjGowg   \n",
       "1  2010-03-22  RF6UnRTtG7tWMcrO2GEoAg   \n",
       "2  2012-02-14  -TsVN230RCkLYKBeLsuz7A   \n",
       "3  2012-03-02  dNocEAyUucjT371NNND41Q   \n",
       "4  2012-05-15  ebcN2aqmNUuYNoyvQErgnA   \n",
       "\n",
       "                                              Review  Stars  labels  \n",
       "0  dr. goldberg offers everything i look for in a...      5       1  \n",
       "1  Unfortunately, the frustration of being Dr. Go...      2       0  \n",
       "2  Dr. Goldberg has been my doctor for years and ...      4       1  \n",
       "3  Been going to Dr. Goldberg for over 10 years. ...      4       1  \n",
       "4  Got a letter in the mail last week that said D...      4       1  "
      ]
     },
     "execution_count": 43,
     "metadata": {},
     "output_type": "execute_result"
    }
   ],
   "source": [
    "df.head()"
   ]
  },
  {
   "cell_type": "code",
   "execution_count": 44,
   "metadata": {},
   "outputs": [],
   "source": [
    "import re\n",
    "def clean_corpus(nlp):\n",
    "    words = nlp.lower()\n",
    "    mytext = re.sub(r'[^a-zA-Z0-9\\']', ' ', words)\n",
    "    mytext = re.sub(r' +', ' ', mytext)\n",
    "    return mytext.strip()"
   ]
  },
  {
   "cell_type": "code",
   "execution_count": 45,
   "metadata": {},
   "outputs": [],
   "source": [
    "df['review_clean'] = df.Review.apply(clean_corpus)"
   ]
  },
  {
   "cell_type": "code",
   "execution_count": 46,
   "metadata": {},
   "outputs": [],
   "source": [
    "#Drop redundant columns\n",
    "review_df = df.drop(['Stars'], axis =1)\n",
    "review_df = review_df.drop(['Review'], axis =1)\n",
    "review_df = review_df.drop(['Dates'], axis =1)"
   ]
  },
  {
   "cell_type": "code",
   "execution_count": 47,
   "metadata": {},
   "outputs": [
    {
     "data": {
      "text/html": [
       "<div>\n",
       "<style scoped>\n",
       "    .dataframe tbody tr th:only-of-type {\n",
       "        vertical-align: middle;\n",
       "    }\n",
       "\n",
       "    .dataframe tbody tr th {\n",
       "        vertical-align: top;\n",
       "    }\n",
       "\n",
       "    .dataframe thead th {\n",
       "        text-align: right;\n",
       "    }\n",
       "</style>\n",
       "<table border=\"1\" class=\"dataframe\">\n",
       "  <thead>\n",
       "    <tr style=\"text-align: right;\">\n",
       "      <th></th>\n",
       "      <th>Review_id</th>\n",
       "      <th>labels</th>\n",
       "      <th>review_clean</th>\n",
       "    </tr>\n",
       "  </thead>\n",
       "  <tbody>\n",
       "    <tr>\n",
       "      <th>0</th>\n",
       "      <td>15SdjuK7DmYqUAj6rjGowg</td>\n",
       "      <td>1</td>\n",
       "      <td>dr goldberg offers everything i look for in a ...</td>\n",
       "    </tr>\n",
       "    <tr>\n",
       "      <th>1</th>\n",
       "      <td>RF6UnRTtG7tWMcrO2GEoAg</td>\n",
       "      <td>0</td>\n",
       "      <td>unfortunately the frustration of being dr gold...</td>\n",
       "    </tr>\n",
       "    <tr>\n",
       "      <th>2</th>\n",
       "      <td>-TsVN230RCkLYKBeLsuz7A</td>\n",
       "      <td>1</td>\n",
       "      <td>dr goldberg has been my doctor for years and i...</td>\n",
       "    </tr>\n",
       "    <tr>\n",
       "      <th>3</th>\n",
       "      <td>dNocEAyUucjT371NNND41Q</td>\n",
       "      <td>1</td>\n",
       "      <td>been going to dr goldberg for over 10 years i ...</td>\n",
       "    </tr>\n",
       "    <tr>\n",
       "      <th>4</th>\n",
       "      <td>ebcN2aqmNUuYNoyvQErgnA</td>\n",
       "      <td>1</td>\n",
       "      <td>got a letter in the mail last week that said d...</td>\n",
       "    </tr>\n",
       "  </tbody>\n",
       "</table>\n",
       "</div>"
      ],
      "text/plain": [
       "                Review_id  labels  \\\n",
       "0  15SdjuK7DmYqUAj6rjGowg       1   \n",
       "1  RF6UnRTtG7tWMcrO2GEoAg       0   \n",
       "2  -TsVN230RCkLYKBeLsuz7A       1   \n",
       "3  dNocEAyUucjT371NNND41Q       1   \n",
       "4  ebcN2aqmNUuYNoyvQErgnA       1   \n",
       "\n",
       "                                        review_clean  \n",
       "0  dr goldberg offers everything i look for in a ...  \n",
       "1  unfortunately the frustration of being dr gold...  \n",
       "2  dr goldberg has been my doctor for years and i...  \n",
       "3  been going to dr goldberg for over 10 years i ...  \n",
       "4  got a letter in the mail last week that said d...  "
      ]
     },
     "execution_count": 47,
     "metadata": {},
     "output_type": "execute_result"
    }
   ],
   "source": [
    "review_df.head()"
   ]
  },
  {
   "cell_type": "code",
   "execution_count": 48,
   "metadata": {},
   "outputs": [
    {
     "name": "stdout",
     "output_type": "stream",
     "text": [
      "5000\n"
     ]
    },
    {
     "data": {
      "text/plain": [
       "((4000,), (1000,), (1000,))"
      ]
     },
     "execution_count": 48,
     "metadata": {},
     "output_type": "execute_result"
    }
   ],
   "source": [
    "reviews = review_df['review_clean'].values\n",
    "sentiments = review_df['labels'].values\n",
    "print (len(reviews))\n",
    "train_reviews = reviews[:4000]\n",
    "train_sentiments = sentiments[:4000]\n",
    "\n",
    "val_reviews = reviews[4000:5000]\n",
    "val_sentiments = sentiments[4000:5000]\n",
    "\n",
    "test_reviews = reviews[4000:]\n",
    "test_sentiments = sentiments[4000:]\n",
    "train_reviews.shape, val_reviews.shape, test_reviews.shape"
   ]
  },
  {
   "cell_type": "code",
   "execution_count": 49,
   "metadata": {},
   "outputs": [],
   "source": [
    "#Training input on the whole training set with no limit on training epochs.\n",
    "train_input_fn = tf.estimator.inputs.numpy_input_fn(\n",
    "    {'sentence': train_reviews}, train_sentiments, \n",
    "    batch_size=256, num_epochs=None, shuffle=True)"
   ]
  },
  {
   "cell_type": "code",
   "execution_count": 50,
   "metadata": {},
   "outputs": [],
   "source": [
    "\n",
    "# Prediction on the whole training set.\n",
    "predict_train_input_fn = tf.estimator.inputs.numpy_input_fn(\n",
    "    {'sentence': train_reviews}, train_sentiments, shuffle=False)"
   ]
  },
  {
   "cell_type": "code",
   "execution_count": 51,
   "metadata": {},
   "outputs": [],
   "source": [
    "# Prediction on the whole validation set.\n",
    "predict_val_input_fn = tf.estimator.inputs.numpy_input_fn(\n",
    "    {'sentence': val_reviews}, val_sentiments, shuffle=False)"
   ]
  },
  {
   "cell_type": "code",
   "execution_count": 52,
   "metadata": {},
   "outputs": [],
   "source": [
    "# Prediction on the test set.\n",
    "predict_test_input_fn = tf.estimator.inputs.numpy_input_fn(\n",
    "    {'sentence': test_reviews}, test_sentiments, shuffle=False)"
   ]
  },
  {
   "cell_type": "code",
   "execution_count": 53,
   "metadata": {},
   "outputs": [],
   "source": [
    "embedding_feature = hub.text_embedding_column(\n",
    "    key='sentence', \n",
    "    module_spec=\"https://tfhub.dev/google/universal-sentence-encoder/2\",\n",
    "    trainable=False)"
   ]
  },
  {
   "cell_type": "code",
   "execution_count": 54,
   "metadata": {},
   "outputs": [],
   "source": [
    "dnn = tf.estimator.DNNClassifier(\n",
    "          hidden_units=[512, 128],\n",
    "          feature_columns=[embedding_feature],\n",
    "          n_classes=2,\n",
    "          activation_fn=tf.nn.relu,\n",
    "          dropout=0.1,\n",
    "          optimizer=tf.train.AdagradOptimizer(learning_rate=0.005))"
   ]
  },
  {
   "cell_type": "code",
   "execution_count": null,
   "metadata": {},
   "outputs": [],
   "source": [
    "tf.logging.set_verbosity(tf.logging.ERROR)\n",
    "import time\n",
    "\n",
    "TOTAL_STEPS = 1500\n",
    "STEP_SIZE = 500\n",
    "for step in range(0, TOTAL_STEPS+1, STEP_SIZE):\n",
    "    print()\n",
    "    print('-'*100)\n",
    "    print('Training for step =', step)\n",
    "    start_time = time.time()\n",
    "    dnn.train(input_fn=train_input_fn, steps=STEP_SIZE)\n",
    "    elapsed_time = time.time() - start_time\n",
    "    print('Train Time (s):', elapsed_time)\n",
    "    print('Eval Metrics (Train):', dnn.evaluate(input_fn=predict_train_input_fn))\n",
    "    print('Eval Metrics (Validation):', dnn.evaluate(input_fn=predict_val_input_fn))"
   ]
  },
  {
   "cell_type": "code",
   "execution_count": 56,
   "metadata": {},
   "outputs": [
    {
     "data": {
      "text/plain": [
       "{'accuracy': 0.98675,\n",
       " 'accuracy_baseline': 0.80375,\n",
       " 'auc': 0.99859035,\n",
       " 'auc_precision_recall': 0.99963844,\n",
       " 'average_loss': 0.05726607,\n",
       " 'label/mean': 0.80375,\n",
       " 'loss': 7.158259,\n",
       " 'precision': 0.98796296,\n",
       " 'prediction/mean': 0.80898315,\n",
       " 'recall': 0.9956454,\n",
       " 'global_step': 1100}"
      ]
     },
     "execution_count": 56,
     "metadata": {},
     "output_type": "execute_result"
    }
   ],
   "source": [
    "#Model Evaluation:\n",
    "dnn.evaluate(input_fn=predict_train_input_fn)"
   ]
  },
  {
   "cell_type": "code",
   "execution_count": 57,
   "metadata": {},
   "outputs": [
    {
     "data": {
      "text/plain": [
       "{'accuracy': 0.864,\n",
       " 'accuracy_baseline': 0.744,\n",
       " 'auc': 0.91317,\n",
       " 'auc_precision_recall': 0.9680733,\n",
       " 'average_loss': 0.36329368,\n",
       " 'label/mean': 0.744,\n",
       " 'loss': 45.41171,\n",
       " 'precision': 0.9010554,\n",
       " 'prediction/mean': 0.7449443,\n",
       " 'recall': 0.9180108,\n",
       " 'global_step': 1100}"
      ]
     },
     "execution_count": 57,
     "metadata": {},
     "output_type": "execute_result"
    }
   ],
   "source": [
    "dnn.evaluate(input_fn=predict_test_input_fn)"
   ]
  },
  {
   "cell_type": "markdown",
   "metadata": {},
   "source": [
    "### Build a Generic Model Trainer on any input Sentence Encoder"
   ]
  },
  {
   "cell_type": "code",
   "execution_count": 58,
   "metadata": {},
   "outputs": [],
   "source": [
    "import time\n",
    "\n",
    "TOTAL_STEPS = 1000\n",
    "STEP_SIZE = 500\n",
    "\n",
    "my_checkpointing_config = tf.estimator.RunConfig(\n",
    "    keep_checkpoint_max = 2,       # Retain the 2 most recent checkpoints.\n",
    ")\n",
    "\n",
    "def train_and_evaluate_with_sentence_encoder(hub_module, train_module=False, path=''):\n",
    "    embedding_feature = hub.text_embedding_column(\n",
    "        key='sentence', module_spec=hub_module, trainable=train_module)\n",
    "  \n",
    "    print()\n",
    "    print('='*100)\n",
    "    print('Training with', hub_module)\n",
    "    print('Trainable is:', train_module)\n",
    "    print('='*100)\n",
    "  \n",
    "    dnn = tf.estimator.DNNClassifier(\n",
    "            hidden_units=[512, 128],\n",
    "            feature_columns=[embedding_feature],\n",
    "            n_classes=2,\n",
    "            activation_fn=tf.nn.relu,\n",
    "            dropout=0.1,\n",
    "            optimizer=tf.train.AdagradOptimizer(learning_rate=0.005),\n",
    "            model_dir=path,\n",
    "            config=my_checkpointing_config)\n",
    "\n",
    "    for step in range(0, TOTAL_STEPS+1, STEP_SIZE):\n",
    "        print('-'*100)\n",
    "        print('Training for step =', step)\n",
    "        start_time = time.time()\n",
    "        dnn.train(input_fn=train_input_fn, steps=STEP_SIZE)\n",
    "        elapsed_time = time.time() - start_time\n",
    "        print('Train Time (s):', elapsed_time)\n",
    "        print('Eval Metrics (Train):', dnn.evaluate(input_fn=predict_train_input_fn))\n",
    "        print('Eval Metrics (Validation):', dnn.evaluate(input_fn=predict_val_input_fn))\n",
    "\n",
    "    train_eval_result = dnn.evaluate(input_fn=predict_train_input_fn)\n",
    "    test_eval_result = dnn.evaluate(input_fn=predict_test_input_fn)\n",
    "\n",
    "    return {\n",
    "      \"Model Dir\": dnn.model_dir,\n",
    "      \"Training Accuracy\": train_eval_result[\"accuracy\"],\n",
    "      \"Test Accuracy\": test_eval_result[\"accuracy\"],\n",
    "      \"Training AUC\": train_eval_result[\"auc\"],\n",
    "      \"Test AUC\": test_eval_result[\"auc\"],\n",
    "      \"Training Precision\": train_eval_result[\"precision\"],\n",
    "      \"Test Precision\": test_eval_result[\"precision\"],\n",
    "      \"Training Recall\": train_eval_result[\"recall\"],\n",
    "      \"Test Recall\": test_eval_result[\"recall\"]\n",
    "    }\n"
   ]
  },
  {
   "cell_type": "markdown",
   "metadata": {},
   "source": [
    "### Train Deep Learning Models on difference Sentence Encoders"
   ]
  },
  {
   "cell_type": "code",
   "execution_count": null,
   "metadata": {},
   "outputs": [
    {
     "name": "stdout",
     "output_type": "stream",
     "text": [
      "\n",
      "====================================================================================================\n",
      "Training with https://tfhub.dev/google/nnlm-en-dim128/1\n",
      "Trainable is: False\n",
      "====================================================================================================\n",
      "----------------------------------------------------------------------------------------------------\n",
      "Training for step = 0\n",
      "Train Time (s): 27.536242723464966\n",
      "Eval Metrics (Train): {'accuracy': 0.90375, 'accuracy_baseline': 0.80375, 'auc': 0.942377, 'auc_precision_recall': 0.9843997, 'average_loss': 0.23683174, 'label/mean': 0.80375, 'loss': 29.603968, 'precision': 0.9298299, 'prediction/mean': 0.7819461, 'recall': 0.95209956, 'global_step': 500}\n",
      "Eval Metrics (Validation): {'accuracy': 0.834, 'accuracy_baseline': 0.744, 'auc': 0.8845609, 'auc_precision_recall': 0.95143014, 'average_loss': 0.36361328, 'label/mean': 0.744, 'loss': 45.45166, 'precision': 0.8822751, 'prediction/mean': 0.7220158, 'recall': 0.89650536, 'global_step': 500}\n",
      "----------------------------------------------------------------------------------------------------\n",
      "Training for step = 500\n",
      "Train Time (s): 27.30005979537964\n",
      "Eval Metrics (Train): {'accuracy': 0.944, 'accuracy_baseline': 0.80375, 'auc': 0.97729284, 'auc_precision_recall': 0.9940708, 'average_loss': 0.15881842, 'label/mean': 0.80375, 'loss': 19.852303, 'precision': 0.9511312, 'prediction/mean': 0.8010408, 'recall': 0.9807154, 'global_step': 1000}\n",
      "Eval Metrics (Validation): {'accuracy': 0.842, 'accuracy_baseline': 0.744, 'auc': 0.8897848, 'auc_precision_recall': 0.9549767, 'average_loss': 0.36577976, 'label/mean': 0.744, 'loss': 45.72247, 'precision': 0.8805195, 'prediction/mean': 0.745232, 'recall': 0.91129035, 'global_step': 1000}\n",
      "----------------------------------------------------------------------------------------------------\n",
      "Training for step = 1000\n",
      "Train Time (s): 27.039296627044678\n",
      "Eval Metrics (Train): {'accuracy': 0.97575, 'accuracy_baseline': 0.80375, 'auc': 0.9950917, 'auc_precision_recall': 0.9987432, 'average_loss': 0.09088331, 'label/mean': 0.80375, 'loss': 11.360414, 'precision': 0.9773423, 'prediction/mean': 0.80467045, 'recall': 0.992846, 'global_step': 1500}\n",
      "Eval Metrics (Validation): {'accuracy': 0.837, 'accuracy_baseline': 0.744, 'auc': 0.8822559, 'auc_precision_recall': 0.9521339, 'average_loss': 0.4036409, 'label/mean': 0.744, 'loss': 50.455112, 'precision': 0.8748387, 'prediction/mean': 0.7526462, 'recall': 0.91129035, 'global_step': 1500}\n",
      "\n",
      "====================================================================================================\n",
      "Training with https://tfhub.dev/google/nnlm-en-dim128/1\n",
      "Trainable is: True\n",
      "====================================================================================================\n",
      "----------------------------------------------------------------------------------------------------\n",
      "Training for step = 0\n",
      "Train Time (s): 35.31963109970093\n",
      "Eval Metrics (Train): {'accuracy': 0.99975, 'accuracy_baseline': 0.80375, 'auc': 0.99932665, 'auc_precision_recall': 0.99982625, 'average_loss': 0.0038520393, 'label/mean': 0.80375, 'loss': 0.48150492, 'precision': 0.99968904, 'prediction/mean': 0.80425113, 'recall': 1.0, 'global_step': 500}\n",
      "Eval Metrics (Validation): {'accuracy': 0.863, 'accuracy_baseline': 0.744, 'auc': 0.8823557, 'auc_precision_recall': 0.9561549, 'average_loss': 0.6424989, 'label/mean': 0.744, 'loss': 80.31236, 'precision': 0.90629184, 'prediction/mean': 0.7462962, 'recall': 0.90994626, 'global_step': 500}\n",
      "----------------------------------------------------------------------------------------------------\n",
      "Training for step = 500\n",
      "Train Time (s): 34.917351722717285\n",
      "Eval Metrics (Train): {'accuracy': 0.99975, 'accuracy_baseline': 0.80375, 'auc': 0.9999996, 'auc_precision_recall': 0.9999999, 'average_loss': 0.0013296966, 'label/mean': 0.80375, 'loss': 0.16621208, 'precision': 0.99968904, 'prediction/mean': 0.8039525, 'recall': 1.0, 'global_step': 1000}\n",
      "Eval Metrics (Validation): {'accuracy': 0.865, 'accuracy_baseline': 0.744, 'auc': 0.874559, 'auc_precision_recall': 0.95398796, 'average_loss': 0.76562476, 'label/mean': 0.744, 'loss': 95.703094, 'precision': 0.9142857, 'prediction/mean': 0.73520887, 'recall': 0.9032258, 'global_step': 1000}\n",
      "----------------------------------------------------------------------------------------------------\n",
      "Training for step = 1000\n",
      "Train Time (s): 32.892552852630615\n",
      "Eval Metrics (Train): {'accuracy': 1.0, 'accuracy_baseline': 0.80375, 'auc': 1.0, 'auc_precision_recall': 1.0, 'average_loss': 0.0003707357, 'label/mean': 0.80375, 'loss': 0.046341963, 'precision': 1.0, 'prediction/mean': 0.80379236, 'recall': 1.0, 'global_step': 1500}\n",
      "Eval Metrics (Validation): {'accuracy': 0.858, 'accuracy_baseline': 0.744, 'auc': 0.8689176, 'auc_precision_recall': 0.95198756, 'average_loss': 0.85084194, 'label/mean': 0.744, 'loss': 106.35524, 'precision': 0.9123288, 'prediction/mean': 0.73350567, 'recall': 0.8951613, 'global_step': 1500}\n",
      "\n",
      "====================================================================================================\n",
      "Training with https://tfhub.dev/google/universal-sentence-encoder/2\n",
      "Trainable is: False\n",
      "====================================================================================================\n",
      "----------------------------------------------------------------------------------------------------\n",
      "Training for step = 0\n",
      "Train Time (s): 236.3782253265381\n",
      "Eval Metrics (Train): {'accuracy': 0.93825, 'accuracy_baseline': 0.80375, 'auc': 0.97867167, 'auc_precision_recall': 0.9946492, 'average_loss': 0.15361999, 'label/mean': 0.80375, 'loss': 19.2025, 'precision': 0.95774215, 'prediction/mean': 0.7958496, 'recall': 0.9657854, 'global_step': 500}\n",
      "Eval Metrics (Validation): {'accuracy': 0.863, 'accuracy_baseline': 0.744, 'auc': 0.9263719, 'auc_precision_recall': 0.97404253, 'average_loss': 0.30284202, 'label/mean': 0.744, 'loss': 37.85525, 'precision': 0.9186207, 'prediction/mean': 0.7240627, 'recall': 0.8951613, 'global_step': 500}\n",
      "----------------------------------------------------------------------------------------------------\n",
      "Training for step = 500\n",
      "Train Time (s): 237.34568762779236\n",
      "Eval Metrics (Train): {'accuracy': 0.98075, 'accuracy_baseline': 0.80375, 'auc': 0.99716645, 'auc_precision_recall': 0.999286, 'average_loss': 0.072284035, 'label/mean': 0.80375, 'loss': 9.035504, 'precision': 0.9824723, 'prediction/mean': 0.80963963, 'recall': 0.9937792, 'global_step': 1000}\n",
      "Eval Metrics (Validation): {'accuracy': 0.863, 'accuracy_baseline': 0.744, 'auc': 0.92054147, 'auc_precision_recall': 0.9716836, 'average_loss': 0.337829, 'label/mean': 0.744, 'loss': 42.228622, 'precision': 0.89986825, 'prediction/mean': 0.7488126, 'recall': 0.9180108, 'global_step': 1000}\n",
      "----------------------------------------------------------------------------------------------------\n",
      "Training for step = 1000\n",
      "Train Time (s): 237.04918670654297\n",
      "Eval Metrics (Train): {'accuracy': 0.9975, 'accuracy_baseline': 0.80375, 'auc': 0.9998458, 'auc_precision_recall': 0.99996144, 'average_loss': 0.030544972, 'label/mean': 0.80375, 'loss': 3.8181214, 'precision': 0.9972076, 'prediction/mean': 0.81000566, 'recall': 0.999689, 'global_step': 1500}\n",
      "Eval Metrics (Validation): {'accuracy': 0.853, 'accuracy_baseline': 0.744, 'auc': 0.90859956, 'auc_precision_recall': 0.9665848, 'average_loss': 0.40827274, 'label/mean': 0.744, 'loss': 51.034092, 'precision': 0.8901961, 'prediction/mean': 0.7565844, 'recall': 0.9153226, 'global_step': 1500}\n",
      "\n",
      "====================================================================================================\n",
      "Training with https://tfhub.dev/google/universal-sentence-encoder/2\n",
      "Trainable is: True\n",
      "====================================================================================================\n",
      "----------------------------------------------------------------------------------------------------\n",
      "Training for step = 0\n",
      "Train Time (s): 287.7759003639221\n",
      "Eval Metrics (Train): {'accuracy': 1.0, 'accuracy_baseline': 0.80375, 'auc': 1.0, 'auc_precision_recall': 1.0, 'average_loss': 0.00010582707, 'label/mean': 0.80375, 'loss': 0.013228384, 'precision': 1.0, 'prediction/mean': 0.8037408, 'recall': 1.0, 'global_step': 500}\n",
      "Eval Metrics (Validation): {'accuracy': 0.881, 'accuracy_baseline': 0.744, 'auc': 0.8730679, 'auc_precision_recall': 0.9572814, 'average_loss': 0.7235476, 'label/mean': 0.744, 'loss': 90.44345, 'precision': 0.9063719, 'prediction/mean': 0.7709324, 'recall': 0.93682796, 'global_step': 500}\n",
      "----------------------------------------------------------------------------------------------------\n",
      "Training for step = 500\n"
     ]
    }
   ],
   "source": [
    "tf.logging.set_verbosity(tf.logging.ERROR)\n",
    "\n",
    "results = {}\n",
    "\n",
    "results[\"nnlm-en-dim128\"] = train_and_evaluate_with_sentence_encoder(\n",
    "    \"https://tfhub.dev/google/nnlm-en-dim128/1\", path='/storage/models/nnlm-en-dim128_f/')\n",
    "\n",
    "results[\"nnlm-en-dim128-with-training\"] = train_and_evaluate_with_sentence_encoder(\n",
    "    \"https://tfhub.dev/google/nnlm-en-dim128/1\", train_module=True, path='/storage/models/nnlm-en-dim128_t/')\n",
    "\n",
    "results[\"use-512\"] = train_and_evaluate_with_sentence_encoder(\n",
    "    \"https://tfhub.dev/google/universal-sentence-encoder/2\", path='/storage/models/use-512_f/')\n",
    "\n",
    "results[\"use-512-with-training\"] = train_and_evaluate_with_sentence_encoder(\n",
    "    \"https://tfhub.dev/google/universal-sentence-encoder/2\", train_module=True, path='/storage/models/use-512_t/')"
   ]
  },
  {
   "cell_type": "markdown",
   "metadata": {},
   "source": [
    "### Model Evaluations:"
   ]
  },
  {
   "cell_type": "code",
   "execution_count": null,
   "metadata": {},
   "outputs": [],
   "source": [
    "results_df = pd.DataFrame.from_dict(results, orient=\"index\")\n",
    "results_df"
   ]
  },
  {
   "cell_type": "code",
   "execution_count": null,
   "metadata": {},
   "outputs": [],
   "source": [
    "best_model_dir = results_df[results_df['Test Accuracy'] == results_df['Test Accuracy'].max()]['Model Dir'].values[0]\n",
    "best_model_dir"
   ]
  },
  {
   "cell_type": "code",
   "execution_count": null,
   "metadata": {},
   "outputs": [],
   "source": [
    "embedding_feature = hub.text_embedding_column(\n",
    "        key='sentence', module_spec=\"https://tfhub.dev/google/universal-sentence-encoder/2\", trainable=True)\n",
    "\n",
    "dnn = tf.estimator.DNNClassifier(\n",
    "            hidden_units=[512, 128],\n",
    "            feature_columns=[embedding_feature],\n",
    "            n_classes=2,\n",
    "            activation_fn=tf.nn.relu,\n",
    "            dropout=0.1,\n",
    "            optimizer=tf.train.AdagradOptimizer(learning_rate=0.005),\n",
    "            model_dir=best_model_dir)\n",
    "dnn"
   ]
  },
  {
   "cell_type": "code",
   "execution_count": null,
   "metadata": {},
   "outputs": [],
   "source": [
    "def get_predictions(estimator, input_fn):\n",
    "    return [x[\"class_ids\"][0] for x in estimator.predict(input_fn=input_fn)]"
   ]
  },
  {
   "cell_type": "code",
   "execution_count": null,
   "metadata": {},
   "outputs": [],
   "source": [
    "predictions = get_predictions(estimator=dnn, input_fn=predict_test_input_fn)\n",
    "predictions[:10]"
   ]
  },
  {
   "cell_type": "code",
   "execution_count": null,
   "metadata": {},
   "outputs": [],
   "source": [
    "import seaborn as sns\n",
    "import matplotlib.pyplot as plt\n",
    "\n",
    "%matplotlib inline\n",
    "\n",
    "with tf.Session() as session:\n",
    "    cm = tf.confusion_matrix(test_sentiments, predictions).eval()\n",
    "\n",
    "LABELS = ['negative', 'positive']\n",
    "sns.heatmap(cm, annot=True, xticklabels=LABELS, yticklabels=LABELS, fmt='g')\n",
    "xl = plt.xlabel(\"Predicted\")\n",
    "yl = plt.ylabel(\"Actuals\")"
   ]
  },
  {
   "cell_type": "code",
   "execution_count": null,
   "metadata": {},
   "outputs": [],
   "source": [
    "from sklearn.metrics import classification_report\n",
    "print(classification_report(y_true=test_sentiments, y_pred=predictions, target_names=LABELS))"
   ]
  },
  {
   "cell_type": "code",
   "execution_count": null,
   "metadata": {},
   "outputs": [],
   "source": []
  }
 ],
 "metadata": {
  "kernelspec": {
   "display_name": "Python 3",
   "language": "python",
   "name": "python3"
  },
  "language_info": {
   "codemirror_mode": {
    "name": "ipython",
    "version": 3
   },
   "file_extension": ".py",
   "mimetype": "text/x-python",
   "name": "python",
   "nbconvert_exporter": "python",
   "pygments_lexer": "ipython3",
   "version": "3.7.1"
  }
 },
 "nbformat": 4,
 "nbformat_minor": 2
}
